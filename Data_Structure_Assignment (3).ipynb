{
  "nbformat": 4,
  "nbformat_minor": 0,
  "metadata": {
    "colab": {
      "provenance": []
    },
    "kernelspec": {
      "name": "python3",
      "display_name": "Python 3"
    },
    "language_info": {
      "name": "python"
    }
  },
  "cells": [
    {
      "cell_type": "markdown",
      "source": [
        "## **Data Structure**"
      ],
      "metadata": {
        "id": "Qlqv6-K1kjM6"
      }
    },
    {
      "cell_type": "markdown",
      "source": [
        "# Q.1 What are data structures, and why are they important?\n",
        "\n",
        "- Data structures are a way of organizing and storing data so that they can be accessed and worked with efficiently. They define the relationship between the data, and the operations that can be performed on the data.\n",
        "\n"
      ],
      "metadata": {
        "id": "4HuFhJSp3QQJ"
      }
    },
    {
      "cell_type": "markdown",
      "source": [
        "# Q.2 Explain the difference between mutable and immutable data types with examples?\n",
        "- In Python, mutable types (like lists, dictionaries) can be changed after creation, while immutable types (like strings, tuples) cannot be altered once defined, ensuring data integrity and safety."
      ],
      "metadata": {
        "id": "vuCyFIBt3tbI"
      }
    },
    {
      "cell_type": "markdown",
      "source": [
        "# Q. 3 What are the main differences between lists and tuples in Python?\n",
        "- The main differences between lists and tuples in Python are:\n",
        "- Mutability: Lists are mutable, meaning they can be changed, while tuples are immutable, meaning they cannot be changed.\n",
        "- Length: Lists have a dynamic length, while tuples have a fixed length once defined.\n",
        "- Memory efficiency: Tuples use less memory than lists.\n",
        "- Speed: Tuples are faster to access than lists.\n",
        "- Syntax: Tuple syntax uses round brackets or parenthesis, and list syntax uses square brackets.\n",
        "- Methods: Lists support a broader range of methods, such as appending, inserting, and removing elements. Tuples provide basic operations that allow you to retrieve information, like the length or index of a specific element.\n",
        "- Use cases: Lists are used for data that needs to be changed frequently, while tuples are used for data that doesn't need to be changed frequently."
      ],
      "metadata": {
        "id": "ZVgNJYfL4mMg"
      }
    },
    {
      "cell_type": "markdown",
      "source": [
        "# Q. 4  Describe how dictionaries store data?\n",
        "- Dictionaries are used to store data values in key:value pairs. A dictionary is a collection which is ordered*, changeable and do not allow duplicates."
      ],
      "metadata": {
        "id": "m0JWp_0M4mJn"
      }
    },
    {
      "cell_type": "markdown",
      "source": [
        "#Q. 5 Why might you use a set instead of a list in Python?\n",
        "- The Python sets are highly useful to efficiently remove duplicate values from a collection like a list and to perform common math operations like unions and intersections."
      ],
      "metadata": {
        "id": "bGRkAVxu4lzR"
      }
    },
    {
      "cell_type": "markdown",
      "source": [
        "# Q.6 E What is a string in Python, and how is it different from a list?\n",
        "- A string is a sequence of characters between single or double quotes. A list is a sequence of items, where each item could be anything (an integer, a float, a string, etc)."
      ],
      "metadata": {
        "id": "3xWyHoC4H2f2"
      }
    },
    {
      "cell_type": "markdown",
      "source": [
        "# Q.7 How do tuples ensure data integrity in Python?\n",
        "- Tuples are immutable to ensure that their contents remain constant throughout their lifecycle, guaranteeing data integrity and reliability. This immutability allows tuples to be used as keys in dictionaries and elements in sets, as they can be hashed."
      ],
      "metadata": {
        "id": "v_UmueZGH2cv"
      }
    },
    {
      "cell_type": "markdown",
      "source": [
        "# Q. 8 What is a hash table, and how does it relate to dictionaries in Python?\n",
        "\n",
        "- In Python, a hash table is a data structure that stores key-value pairs, and dictionaries are built using hash tables:\n",
        "\n",
        "- Hash table\n",
        "A data structure that stores key-value pairs in an array format, where each value has a unique index. The key is hashed to generate an index that points to the value's location in the array. Hash tables are useful because they provide quick access to data if the index is known.\n",
        "\n",
        "- Dictionary\n",
        "Python's built-in data type that uses a hash table to store key-value pairs. Dictionaries are designed to balance memory usage and performance for efficient data access."
      ],
      "metadata": {
        "id": "85Zet9J5H2Z9"
      }
    },
    {
      "cell_type": "markdown",
      "source": [
        "# Q. 9 Can lists contain different data types in Python?\n",
        "\n",
        "- Although it's not really common, a list can also contain a mix of Python types including strings, floats, and booleans."
      ],
      "metadata": {
        "id": "CtN8s62CH2V8"
      }
    },
    {
      "cell_type": "markdown",
      "source": [
        "# Q. 10 Explain why strings are immutable in Python?\n",
        "\n",
        "- Strings in Python are “immutable” which means they can not be changed after they are created. Some other immutable data types are integers, float, boolean, etc.\n",
        "\n",
        "- The immutability of Python string is very useful as it helps in hashing, performance optimization, safety, ease of use,\n",
        "\n",
        "- In Python, strings are made immutable so that programmers cannot alter the contents of the object (even by mistake). This avoids unnecessary bugs.\n",
        "Some other immutable objects are integer, float, tuple, and bool.\n"
      ],
      "metadata": {
        "id": "sVC5fbMHH2SB"
      }
    },
    {
      "cell_type": "markdown",
      "source": [
        "# Q. 11 What advantages do dictionaries offer over lists for certain tasks?\n",
        "\n",
        "- difference between lists and dictionaries getting the elements from the list data structure is more complex when compared to dictionaries. So it is more efficient to use dictionaries for the searching of elements as it can be carried out in a much faster manner."
      ],
      "metadata": {
        "id": "FLNL6H1QH2Nv"
      }
    },
    {
      "cell_type": "markdown",
      "source": [
        "   # Q. 12 Describe a scenario where using a tuple would be preferable over a list?\n",
        "\n",
        "   - Use a tuple if you need an immutable collection where the elements won't change after creation. Tuples are generally faster and more memory-efficient than lists, making them better for fixed collections, especially as dictionary keys or when iteration speed is crucial.\n",
        "   "
      ],
      "metadata": {
        "id": "OuiDlGzR4lwc"
      }
    },
    {
      "cell_type": "markdown",
      "source": [
        "# Q 13 E How do sets handle duplicate values in Python?\n",
        "- Items of a set in python are immutable (unchangeable), do not duplicate values, and unordered. Thus, items in a set do not appear in a stipulated manner, i.e., they can appear in a different order every time it is used. Due to this, set items cannot be referred to by key or index."
      ],
      "metadata": {
        "id": "TQX45LU_MzPT"
      }
    },
    {
      "cell_type": "markdown",
      "source": [
        "# Q 14 How does the “in” keyword work differently for lists and dictionaries?\n",
        "- Lists:\n",
        "\n",
        "When used with lists, the in keyword checks for membership of an element within the list. It essentially asks, \"Is this element present anywhere in the list?\"\n",
        "\n",
        "It searches for the element by comparing it with each item in the list sequentially. If a match is found, it returns True; otherwise, it returns False.\n",
        "- Dictionaries:\n",
        "\n",
        "With dictionaries, the in keyword behaves differently. It checks for the presence of a key within the dictionary, not the values. It essentially asks, \"Is this key present in the dictionary?\"\n",
        "\n",
        "It leverages the dictionary's hash table structure for efficient lookup. If the key is found, it returns True; otherwise, it returns False"
      ],
      "metadata": {
        "id": "coknT0tLMzLM"
      }
    },
    {
      "cell_type": "markdown",
      "source": [
        "# Q. 15 Can you modify the elements of a tuple? Explain why or why not?\n",
        "\n",
        "- Tuples, unlike lists, are immutable. This means that once a tuple's elements have been allocated, they cannot be modified. However, if the element is a changeable data type, such as a list, its nested components can be altered. If you attempt to alter a tuple element, you will receive a TypeError error."
      ],
      "metadata": {
        "id": "QldJCahuMzIj"
      }
    },
    {
      "cell_type": "markdown",
      "source": [
        "# Q. 16 What is a nested dictionary, and give an example of its use case?\n",
        "\n",
        "- In Python, a nested dictionary is a dictionary inside a dictionary. It's a collection of dictionaries into one single dictionary. Here, the nested_dict is a nested dictionary with the dictionary dictA and dictB . They are two dictionary each having own key and value."
      ],
      "metadata": {
        "id": "9L9b3wzxMzFy"
      }
    },
    {
      "cell_type": "markdown",
      "source": [
        "# Q. 17  Describe the time complexity of accessing elements in a dictionary?\n",
        "\n",
        "- Similar to the insertion operation, dictionary lookups in Python also have an average time complexity of O(1). This means that, on average, the time taken to retrieve an element from a dictionary is constant and does not depend on the size of the dictionary."
      ],
      "metadata": {
        "id": "AXZ94-pn4lnp"
      }
    },
    {
      "cell_type": "markdown",
      "source": [
        "# Q. 18 In what situations are lists preferred over dictionaries?\n",
        "\n",
        "- Use Cases: If you need an ordered collection, like a sequence of user actions, lists are your go-to. On the other hand, when you need quick look-ups, like mapping usernames to user data, dictionaries are invaluable."
      ],
      "metadata": {
        "id": "QxfBIa014llT"
      }
    },
    {
      "cell_type": "markdown",
      "source": [
        "# Q. 19 Why are dictionaries considered unordered, and how does that affect data retrieval?\n",
        "\n",
        "- Regardless of whether the dictionary is ordered or not, the key-value pairs will remain intact, enabling us to access data based on their relational meaning."
      ],
      "metadata": {
        "id": "Spl0kYKbV_kc"
      }
    },
    {
      "cell_type": "markdown",
      "source": [
        "# Q. 20  Explain the difference between a list and a dictionary in terms of data retrieval?\n",
        "\n",
        "- A list is an ordered collection of items, whereas a dictionary is an unordered data collection in a key: value pair. Elements from the list can be accessed using the index, while the elements of the dictionary can be accessed using keys"
      ],
      "metadata": {
        "id": "8YtGNcliWANg"
      }
    },
    {
      "cell_type": "markdown",
      "source": [
        "# **Practical** **Questions**"
      ],
      "metadata": {
        "id": "BcR9HMq5W9fO"
      }
    },
    {
      "cell_type": "code",
      "execution_count": 1,
      "metadata": {
        "id": "I59Kd_X52xta",
        "colab": {
          "base_uri": "https://localhost:8080/"
        },
        "outputId": "80caaa1d-c333-4685-dd43-0c575f48f8b2"
      },
      "outputs": [
        {
          "output_type": "stream",
          "name": "stdout",
          "text": [
            "Vinod\n"
          ]
        }
      ],
      "source": [
        "# Q 1 Write a code to create a string with your name and print it?\n",
        "\n",
        "name = \"Vinod\"\n",
        "print(name)\n"
      ]
    },
    {
      "cell_type": "code",
      "source": [
        "# Q. 2 Write a code to find the length of the string \"Hello World\"?\n",
        "\n",
        "string = \"Hello World\"\n",
        "length = len(string)\n",
        "print(length)"
      ],
      "metadata": {
        "colab": {
          "base_uri": "https://localhost:8080/"
        },
        "id": "nHP_q_vyOZYM",
        "outputId": "e9b25802-c22c-42fa-aee0-2363b20103e5"
      },
      "execution_count": 2,
      "outputs": [
        {
          "output_type": "stream",
          "name": "stdout",
          "text": [
            "11\n"
          ]
        }
      ]
    },
    {
      "cell_type": "code",
      "source": [
        "# Q. 3 Write a code to slice the first 3 characters from the string \"Python Programming\"\n",
        "\n",
        "string = \"Python Programming\"\n",
        "sliced_string = string[:3]\n",
        "print(sliced_string)"
      ],
      "metadata": {
        "colab": {
          "base_uri": "https://localhost:8080/"
        },
        "id": "Nd6q3Fm9OmXP",
        "outputId": "fce249c8-888c-475a-c7fc-790c36f3d3c8"
      },
      "execution_count": 6,
      "outputs": [
        {
          "output_type": "stream",
          "name": "stdout",
          "text": [
            "Pyt\n"
          ]
        }
      ]
    },
    {
      "cell_type": "code",
      "source": [
        "# Q. 4 Write a code to convert the string \"hello\" to uppercase?\n",
        "\n",
        "string1 = \"hello\"\n",
        "uppercase_string = string1.upper()\n",
        "print(uppercase_string)"
      ],
      "metadata": {
        "colab": {
          "base_uri": "https://localhost:8080/"
        },
        "id": "YsYkZaZqYcaS",
        "outputId": "029022db-6bb0-4b98-d6f1-3642519bb15b"
      },
      "execution_count": 9,
      "outputs": [
        {
          "output_type": "stream",
          "name": "stdout",
          "text": [
            "HELLO\n"
          ]
        }
      ]
    },
    {
      "cell_type": "code",
      "source": [
        "# Q. 5 Write a code to replace the word \"apple\" with \"orange\" in the string \"I like apple\"?\n",
        "\n",
        "string = \"I like apple\"\n",
        "new_string = string.replace(\"apple\", \"orange\")\n",
        "print(new_string)"
      ],
      "metadata": {
        "colab": {
          "base_uri": "https://localhost:8080/"
        },
        "id": "qZCRZIvJZFIP",
        "outputId": "54bbe087-4379-4a96-9543-733a30698f26"
      },
      "execution_count": 10,
      "outputs": [
        {
          "output_type": "stream",
          "name": "stdout",
          "text": [
            "I like orange\n"
          ]
        }
      ]
    },
    {
      "cell_type": "code",
      "source": [
        "# Q. 6 Write a code to create a list with numbers 1 to 5 and print it?\n",
        "\n",
        "my_list = list(range(1, 6))\n",
        "print(my_list)"
      ],
      "metadata": {
        "colab": {
          "base_uri": "https://localhost:8080/"
        },
        "id": "M5eo26oLaEl9",
        "outputId": "ba69c2c9-7120-4a9d-b80b-3d166e6265dc"
      },
      "execution_count": 11,
      "outputs": [
        {
          "output_type": "stream",
          "name": "stdout",
          "text": [
            "[1, 2, 3, 4, 5]\n"
          ]
        }
      ]
    },
    {
      "cell_type": "code",
      "source": [
        "# Q. 7 Write a code to append the number 10 to the list [1, 2, 3, 4]\n",
        "\n",
        "my_list = [1, 2, 3, 4]\n",
        "my_list.append(10)\n",
        "print(my_list)"
      ],
      "metadata": {
        "colab": {
          "base_uri": "https://localhost:8080/"
        },
        "id": "KpTirgrQalzf",
        "outputId": "beae7835-8087-4d83-ae4d-7b5c5c647914"
      },
      "execution_count": 12,
      "outputs": [
        {
          "output_type": "stream",
          "name": "stdout",
          "text": [
            "[1, 2, 3, 4, 10]\n"
          ]
        }
      ]
    },
    {
      "cell_type": "code",
      "source": [
        "# Q. 8 Write a code to remove the number 3 from the list [1, 2, 3, 4, 5]?\n",
        "\n",
        "my_list = [1, 2, 3, 4, 5]\n",
        "my_list.remove(3)\n",
        "print(my_list)"
      ],
      "metadata": {
        "colab": {
          "base_uri": "https://localhost:8080/"
        },
        "id": "YGVeCUCna4a2",
        "outputId": "4633ac64-c0e4-4b92-8466-3f1817a7eec7"
      },
      "execution_count": 13,
      "outputs": [
        {
          "output_type": "stream",
          "name": "stdout",
          "text": [
            "[1, 2, 4, 5]\n"
          ]
        }
      ]
    },
    {
      "cell_type": "code",
      "source": [
        "# Q. 9 Write a code to access the second element in the list ['a', 'b', 'c', 'd']\n",
        "\n",
        "my_list = ['a', 'b', 'c', 'd']\n",
        "second_element = my_list[1]\n",
        "print(second_element)\n"
      ],
      "metadata": {
        "colab": {
          "base_uri": "https://localhost:8080/"
        },
        "id": "4ElJXlcObFq_",
        "outputId": "c10efcdb-6e4c-47db-dd1c-a35f29166c70"
      },
      "execution_count": 14,
      "outputs": [
        {
          "output_type": "stream",
          "name": "stdout",
          "text": [
            "b\n"
          ]
        }
      ]
    },
    {
      "cell_type": "code",
      "source": [
        "# Q. 10 Write a code to reverse the list [10, 20, 30, 40, 50]?\n",
        "\n",
        "my_list = [10, 20, 30, 40, 50]\n",
        "my_list.reverse()\n",
        "print(my_list)"
      ],
      "metadata": {
        "colab": {
          "base_uri": "https://localhost:8080/"
        },
        "id": "WHJl0h2IbSMt",
        "outputId": "5f302715-e3ae-4c01-f523-a8f727f1e123"
      },
      "execution_count": 16,
      "outputs": [
        {
          "output_type": "stream",
          "name": "stdout",
          "text": [
            "[50, 40, 30, 20, 10]\n"
          ]
        }
      ]
    },
    {
      "cell_type": "code",
      "source": [
        "\n",
        "\n",
        "# Q. 11 Write a code to create a tuple with the elements 10, 20, 30 and print it?\n",
        "\n",
        "my_tuple = (10, 20, 30)\n",
        "print(my_tuple)"
      ],
      "metadata": {
        "colab": {
          "base_uri": "https://localhost:8080/"
        },
        "id": "LknJKCq3bekM",
        "outputId": "fc19982f-054d-4754-b482-b4e86d9b3353"
      },
      "execution_count": 27,
      "outputs": [
        {
          "output_type": "stream",
          "name": "stdout",
          "text": [
            "(10, 20, 30)\n"
          ]
        }
      ]
    },
    {
      "cell_type": "code",
      "source": [
        "# Q. 12 Write a code to access the first element of the tuple ('apple', 'banana', 'cherry').\n",
        "\n",
        "my_tuple = ('apple', 'banana', 'cherry')\n",
        "first_element = my_tuple[0]\n",
        "print(first_element)"
      ],
      "metadata": {
        "colab": {
          "base_uri": "https://localhost:8080/"
        },
        "id": "R4ILUS1cb6wA",
        "outputId": "147d8a29-3576-40cb-bf67-4cf31f83eadf"
      },
      "execution_count": 20,
      "outputs": [
        {
          "output_type": "stream",
          "name": "stdout",
          "text": [
            "apple\n"
          ]
        }
      ]
    },
    {
      "cell_type": "code",
      "source": [
        "# Q. 13 Write a code to count how many times the number 2 appears in the tuple (1, 2, 3, 2, 4, 2)\n",
        "\n",
        "my_tuple = (1,2,3,2,4,2)\n",
        "count = my_tuple.count(2)\n",
        "print(count)"
      ],
      "metadata": {
        "colab": {
          "base_uri": "https://localhost:8080/"
        },
        "id": "RpSyiY9ncUg-",
        "outputId": "3bd53a71-9e13-495b-c05e-ea0e32a7a230"
      },
      "execution_count": 21,
      "outputs": [
        {
          "output_type": "stream",
          "name": "stdout",
          "text": [
            "3\n"
          ]
        }
      ]
    },
    {
      "cell_type": "code",
      "source": [
        "# Q. 14 Write a code to find the index of the element \"cat\" in the tuple ('dog', 'cat', 'rabbit').\n",
        "\n",
        "my_tuple = ('dog', 'cat', 'rabbit')\n",
        "index = my_tuple.index('cat')\n",
        "print(index)"
      ],
      "metadata": {
        "colab": {
          "base_uri": "https://localhost:8080/"
        },
        "id": "ft-mmBA4cx6d",
        "outputId": "51821e77-b481-4e99-c96e-a1c0d6bf54c4"
      },
      "execution_count": 22,
      "outputs": [
        {
          "output_type": "stream",
          "name": "stdout",
          "text": [
            "1\n"
          ]
        }
      ]
    },
    {
      "cell_type": "code",
      "source": [
        "# Q. 15 Write a code to check if the element \"banana\" is in the tuple ('apple', 'orange', 'banana')?\n",
        "\n",
        "my_tuple = ('apple', 'orange', 'banana')\n",
        "if 'banana' in my_tuple:\n",
        "    print(\"banana is in the tuple\")\n",
        "else:\n",
        "    print(\"banana is not in the tuple\")"
      ],
      "metadata": {
        "colab": {
          "base_uri": "https://localhost:8080/"
        },
        "id": "9nk5nLlmdESq",
        "outputId": "01a8f55a-e246-4a83-be2f-a57d923e8520"
      },
      "execution_count": 23,
      "outputs": [
        {
          "output_type": "stream",
          "name": "stdout",
          "text": [
            "banana is in the tuple\n"
          ]
        }
      ]
    },
    {
      "cell_type": "code",
      "source": [
        "# Q. 16  Write a code to create a set with the elements 1, 2, 3, 4, 5 and print it?\n",
        "\n",
        "my_set = {1, 2, 3, 4, 5}\n",
        "print(my_set)"
      ],
      "metadata": {
        "colab": {
          "base_uri": "https://localhost:8080/"
        },
        "id": "rVAs5JMIdPaK",
        "outputId": "0f42c54d-43fe-4a20-ae9e-9f3e30265ab4"
      },
      "execution_count": 24,
      "outputs": [
        {
          "output_type": "stream",
          "name": "stdout",
          "text": [
            "{1, 2, 3, 4, 5}\n"
          ]
        }
      ]
    },
    {
      "cell_type": "code",
      "source": [
        "# Q. 17  Write a code to add the element 6 to the set {1, 2, 3, 4}?\n",
        "\n",
        "my_set = {1, 2, 3, 4}\n",
        "my_set.add(6)\n",
        "print(my_set)"
      ],
      "metadata": {
        "colab": {
          "base_uri": "https://localhost:8080/"
        },
        "id": "njG_bjrEda8L",
        "outputId": "9e755f4d-71e9-46bd-a46a-9c897d596fb1"
      },
      "execution_count": 25,
      "outputs": [
        {
          "output_type": "stream",
          "name": "stdout",
          "text": [
            "{1, 2, 3, 4, 6}\n"
          ]
        }
      ]
    },
    {
      "cell_type": "code",
      "source": [
        "#same question Q. 11\n",
        "\n",
        "# Q. 18  Write a code to create a tuple with the elements 10, 20, 30 and print it.?\n",
        "\n",
        "my_tuple = (10, 20, 30)\n",
        "print(my_tuple)"
      ],
      "metadata": {
        "colab": {
          "base_uri": "https://localhost:8080/"
        },
        "id": "2LhPjQDSdi4J",
        "outputId": "acf7ceff-8f83-40ef-fe83-f9118c13376b"
      },
      "execution_count": 26,
      "outputs": [
        {
          "output_type": "stream",
          "name": "stdout",
          "text": [
            "(10, 20, 30)\n"
          ]
        }
      ]
    },
    {
      "cell_type": "code",
      "source": [
        "# same question Q. 12\n",
        "\n",
        "# Q. 19  Write a code to access the first element of the tuple ('apple', 'banana', 'cherry')?\n",
        "\n",
        "my_tuple = (\"apple\", \"banana\", \"cherry\")\n",
        "first_element = my_tuple[0]\n",
        "print(first_element)"
      ],
      "metadata": {
        "colab": {
          "base_uri": "https://localhost:8080/"
        },
        "id": "KxeDqB4Sdo1y",
        "outputId": "7813cfbe-e865-411f-fb0c-d8f61bfdbbc4"
      },
      "execution_count": 28,
      "outputs": [
        {
          "output_type": "stream",
          "name": "stdout",
          "text": [
            "apple\n"
          ]
        }
      ]
    },
    {
      "cell_type": "code",
      "source": [
        "# same question Q. 13\n",
        "\n",
        "# Q. 20 Write a code to count how many times the number 2 appears in the tuple (1, 2, 3, 2, 4, 2)\n",
        "\n",
        "my_tuple = (1,2,3,2,4,2)\n",
        "count = my_tuple.count(2)\n",
        "print(count)"
      ],
      "metadata": {
        "colab": {
          "base_uri": "https://localhost:8080/"
        },
        "id": "qrz5KWuGfwVB",
        "outputId": "0de4de8b-4b9c-4420-b024-77a897e435d7"
      },
      "execution_count": 29,
      "outputs": [
        {
          "output_type": "stream",
          "name": "stdout",
          "text": [
            "3\n"
          ]
        }
      ]
    },
    {
      "cell_type": "code",
      "source": [
        "# same question Q. 14\n",
        "\n",
        "# Q. 21  Write a code to find the index of the element \"cat\" in the tuple ('dog', 'cat', 'rabbit').\n",
        "\n",
        "my_tuple = ('dog', 'cat', 'rabbit')\n",
        "index = my_tuple.index('cat')\n",
        "print(index)"
      ],
      "metadata": {
        "colab": {
          "base_uri": "https://localhost:8080/"
        },
        "id": "dReHHNUcgIIQ",
        "outputId": "8523d682-c813-4ff8-c76e-53e7fa272afa"
      },
      "execution_count": 30,
      "outputs": [
        {
          "output_type": "stream",
          "name": "stdout",
          "text": [
            "1\n"
          ]
        }
      ]
    },
    {
      "cell_type": "code",
      "source": [
        "# same question Q. 15\n",
        "\n",
        "# Q. 22 Write a code to check if the element \"banana\" is in the tuple ('apple', 'orange', 'banana')?\n",
        "\n",
        "my_tuple = ('apple', 'orange', 'banana')\n",
        "if 'banana' in my_tuple:\n",
        "    print(\"banana is in the tuple\")\n",
        "else:\n",
        "    print(\"banana is not in the tuple\")"
      ],
      "metadata": {
        "colab": {
          "base_uri": "https://localhost:8080/"
        },
        "id": "ZOgOlmVdgWUi",
        "outputId": "da721b95-8467-49e6-cbd3-3fd397321ae1"
      },
      "execution_count": 31,
      "outputs": [
        {
          "output_type": "stream",
          "name": "stdout",
          "text": [
            "banana is in the tuple\n"
          ]
        }
      ]
    },
    {
      "cell_type": "code",
      "source": [
        "# same question Q. 16\n",
        "# Q. 23. Write a code to create a set with the elements 1, 2, 3, 4, 5 and print it?\n",
        "\n",
        "my_set = {1,2,3,4,5}\n",
        "print(my_set)"
      ],
      "metadata": {
        "colab": {
          "base_uri": "https://localhost:8080/"
        },
        "id": "gYZogYQhgldL",
        "outputId": "8b2ae7b3-714b-4348-a803-93ec15a3a3dc"
      },
      "execution_count": 32,
      "outputs": [
        {
          "output_type": "stream",
          "name": "stdout",
          "text": [
            "{1, 2, 3, 4, 5}\n"
          ]
        }
      ]
    },
    {
      "cell_type": "code",
      "source": [
        "#same question Q. 17\n",
        "\n",
        "# Q. 24  Write a code to add the element 6 to the set {1, 2, 3, 4}?\n",
        "\n",
        "my_set = {1, 2, 3, 4}\n",
        "my_set.add(6)\n",
        "print(my_set)"
      ],
      "metadata": {
        "colab": {
          "base_uri": "https://localhost:8080/"
        },
        "id": "r-pyQkBXhPkY",
        "outputId": "78d0f668-48e2-4992-b28a-22d5b99b1ea4"
      },
      "execution_count": 33,
      "outputs": [
        {
          "output_type": "stream",
          "name": "stdout",
          "text": [
            "{1, 2, 3, 4, 6}\n"
          ]
        }
      ]
    },
    {
      "cell_type": "code",
      "source": [],
      "metadata": {
        "id": "8DGO8aeLmAAp"
      },
      "execution_count": null,
      "outputs": []
    }
  ]
}